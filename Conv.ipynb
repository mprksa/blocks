{
  "cells": [
    {
      "cell_type": "markdown",
      "metadata": {
        "id": "view-in-github",
        "colab_type": "text"
      },
      "source": [
        "<a href=\"https://colab.research.google.com/github/mprksa/blocks/blob/main/Conv.ipynb\" target=\"_parent\"><img src=\"https://colab.research.google.com/assets/colab-badge.svg\" alt=\"Open In Colab\"/></a>"
      ]
    },
    {
      "cell_type": "code",
      "source": [
        "import tensorflow as tf\n",
        "import numpy as np\n",
        "import matplotlib.pyplot as plt"
      ],
      "metadata": {
        "id": "6K-CzdY4hg0E"
      },
      "execution_count": null,
      "outputs": []
    },
    {
      "cell_type": "code",
      "source": [
        "# Memuat model TFLite\n",
        "model_path = 'model.tflite'\n",
        "interpreter = tf.lite.Interpreter(model_path=model_path)\n",
        "interpreter.allocate_tensors()"
      ],
      "metadata": {
        "id": "iwc4mnX9hjtH"
      },
      "execution_count": null,
      "outputs": []
    },
    {
      "cell_type": "code",
      "source": [
        "# Mendapatkan detail tensor\n",
        "tensor_details = interpreter.get_tensor_details()"
      ],
      "metadata": {
        "id": "faXMqlX0hl9H"
      },
      "execution_count": null,
      "outputs": []
    },
    {
      "cell_type": "code",
      "source": [
        "# Mendapatkan index tensor konvolusi\n",
        "conv_layer_indices = [i for i, d in enumerate(tensor_details) if 'conv2d' in d['name']]\n"
      ],
      "metadata": {
        "id": "IQ1LKnDDhoLP"
      },
      "execution_count": null,
      "outputs": []
    },
    {
      "cell_type": "code",
      "source": [
        "# Menampilkan berat dari lapisan konvolusi pertama\n",
        "for index in conv_layer_indices:\n",
        "    tensor = interpreter.tensor(tensor_details[index]['index'])()\n",
        "    print(f\"Layer Name: {tensor_details[index]['name']}, Shape: {tensor.shape}\")\n",
        "    if len(tensor.shape) == 4:  # Memastikan ini adalah lapisan konvolusi\n",
        "        for i in range(tensor.shape[-1]):  # Untuk setiap filter di lapisan ini\n",
        "            plt.imshow(tensor[:, :, :, i], cmap='viridis')\n",
        "            plt.title(f'Filter {i}')\n",
        "            plt.colorbar()\n",
        "            plt.show()\n",
        "        break  # Hanya menampilkan satu lapisan untuk contoh ini"
      ],
      "metadata": {
        "id": "_3XR4EHLhp9_"
      },
      "execution_count": null,
      "outputs": []
    },
    {
      "cell_type": "code",
      "source": [
        "def normalize(matrix):\n",
        "    matrix_min = np.min(matrix)\n",
        "    matrix_max = np.max(matrix)\n",
        "    return (matrix - matrix_min) / (matrix_max - matrix_min)"
      ],
      "metadata": {
        "id": "EBzbZsgXhtpV"
      },
      "execution_count": null,
      "outputs": []
    },
    {
      "cell_type": "code",
      "source": [
        "# Misal kita sudah memiliki model interpreter dan loaded layer\n",
        "layer_details = interpreter.get_tensor_details()\n",
        "\n",
        "for layer in layer_details:\n",
        "    if 'conv' in layer['name'] and 'kernel' in layer['name']:\n",
        "        layer_name = layer['name']\n",
        "        layer_tensor = interpreter.get_tensor(layer['index'])\n",
        "        normalized_tensor = normalize(layer_tensor)\n",
        "\n",
        "        print(f\"Layer Name: {layer_name}, Shape: {layer_tensor.shape}\")\n",
        "\n",
        "        for i in range(normalized_tensor.shape[-1]):\n",
        "            plt.imshow(normalized_tensor[:, :, :, i], cmap='viridis')\n",
        "            plt.title(f\"{layer_name} - Filter {i}\")\n",
        "            plt.colorbar()\n",
        "            plt.show()"
      ],
      "metadata": {
        "id": "XzvXcXWThvUi"
      },
      "execution_count": null,
      "outputs": []
    }
  ],
  "metadata": {
    "colab": {
      "provenance": [],
      "include_colab_link": true
    },
    "kernelspec": {
      "display_name": "Python 3 (ipykernel)",
      "language": "python",
      "name": "python3"
    },
    "language_info": {
      "codemirror_mode": {
        "name": "ipython",
        "version": 3
      },
      "file_extension": ".py",
      "mimetype": "text/x-python",
      "name": "python",
      "nbconvert_exporter": "python",
      "pygments_lexer": "ipython3",
      "version": "3.11.9"
    }
  },
  "nbformat": 4,
  "nbformat_minor": 0
}