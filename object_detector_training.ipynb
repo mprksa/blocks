{
 "cells": [
  {
   "cell_type": "code",
   "execution_count": null,
   "metadata": {
    "id": "UnB1pBO1OTjC"
   },
   "outputs": [],
   "source": [
    "from google.colab import drive\n",
    "drive.mount('/content/drive')"
   ]
  },
  {
   "cell_type": "code",
   "execution_count": 1,
   "metadata": {
    "id": "GMSCcHh1LScM"
   },
   "outputs": [
    {
     "name": "stdout",
     "output_type": "stream",
     "text": [
      "Python 3.11.9\n",
      "Requirement already satisfied: pip in c:\\users\\muhammad prakarsa\\appdata\\roaming\\python\\python311\\site-packages (24.0)\n",
      "Collecting mediapipe-model-maker\n",
      "  Downloading mediapipe_model_maker-0.2.1.4-py3-none-any.whl.metadata (1.7 kB)\n",
      "Requirement already satisfied: absl-py in c:\\users\\muhammad prakarsa\\appdata\\roaming\\python\\python311\\site-packages (from mediapipe-model-maker) (2.1.0)\n",
      "Requirement already satisfied: mediapipe>=0.10.0 in c:\\users\\muhammad prakarsa\\appdata\\roaming\\python\\python311\\site-packages (from mediapipe-model-maker) (0.10.14)\n",
      "Requirement already satisfied: numpy in c:\\programdata\\anaconda3\\lib\\site-packages (from mediapipe-model-maker) (1.26.4)\n",
      "Requirement already satisfied: opencv-python in c:\\users\\muhammad prakarsa\\appdata\\roaming\\python\\python311\\site-packages (from mediapipe-model-maker) (4.9.0.80)\n",
      "Requirement already satisfied: tensorflow<2.16,>=2.10 in c:\\programdata\\anaconda3\\lib\\site-packages (from mediapipe-model-maker) (2.12.0)\n",
      "Collecting tensorflow-addons (from mediapipe-model-maker)\n",
      "  Downloading tensorflow_addons-0.22.0-cp311-cp311-win_amd64.whl.metadata (1.8 kB)\n",
      "Collecting tensorflow-datasets (from mediapipe-model-maker)\n",
      "  Downloading tensorflow_datasets-4.9.6-py3-none-any.whl.metadata (9.5 kB)\n",
      "Collecting tensorflow-hub (from mediapipe-model-maker)\n",
      "  Downloading tensorflow_hub-0.16.1-py2.py3-none-any.whl.metadata (1.3 kB)\n",
      "Collecting tensorflow-model-optimization<0.8.0 (from mediapipe-model-maker)\n",
      "  Downloading tensorflow_model_optimization-0.7.5-py2.py3-none-any.whl.metadata (914 bytes)\n",
      "INFO: pip is looking at multiple versions of mediapipe-model-maker to determine which version is compatible with other requirements. This could take a while.\n",
      "Collecting mediapipe-model-maker\n",
      "  Downloading mediapipe_model_maker-0.2.1.3-py3-none-any.whl.metadata (1.6 kB)\n",
      "Collecting tf-models-official>=2.13.1 (from mediapipe-model-maker)\n",
      "  Downloading tf_models_official-2.16.0-py2.py3-none-any.whl.metadata (1.4 kB)\n",
      "Requirement already satisfied: attrs>=19.1.0 in c:\\programdata\\anaconda3\\lib\\site-packages (from mediapipe>=0.10.0->mediapipe-model-maker) (23.1.0)\n",
      "Requirement already satisfied: flatbuffers>=2.0 in c:\\users\\muhammad prakarsa\\appdata\\roaming\\python\\python311\\site-packages (from mediapipe>=0.10.0->mediapipe-model-maker) (24.3.25)\n",
      "Requirement already satisfied: jax in c:\\users\\muhammad prakarsa\\appdata\\roaming\\python\\python311\\site-packages (from mediapipe>=0.10.0->mediapipe-model-maker) (0.4.28)\n",
      "Requirement already satisfied: jaxlib in c:\\users\\muhammad prakarsa\\appdata\\roaming\\python\\python311\\site-packages (from mediapipe>=0.10.0->mediapipe-model-maker) (0.4.28)\n",
      "Requirement already satisfied: matplotlib in c:\\programdata\\anaconda3\\lib\\site-packages (from mediapipe>=0.10.0->mediapipe-model-maker) (3.8.4)\n",
      "Requirement already satisfied: opencv-contrib-python in c:\\users\\muhammad prakarsa\\appdata\\roaming\\python\\python311\\site-packages (from mediapipe>=0.10.0->mediapipe-model-maker) (4.9.0.80)\n",
      "Requirement already satisfied: protobuf<5,>=4.25.3 in c:\\users\\muhammad prakarsa\\appdata\\roaming\\python\\python311\\site-packages (from mediapipe>=0.10.0->mediapipe-model-maker) (4.25.3)\n",
      "Requirement already satisfied: sounddevice>=0.4.4 in c:\\users\\muhammad prakarsa\\appdata\\roaming\\python\\python311\\site-packages (from mediapipe>=0.10.0->mediapipe-model-maker) (0.4.7)\n",
      "Requirement already satisfied: tensorflow-intel==2.12.0 in c:\\programdata\\anaconda3\\lib\\site-packages (from tensorflow<2.16,>=2.10->mediapipe-model-maker) (2.12.0)\n",
      "Requirement already satisfied: astunparse>=1.6.0 in c:\\programdata\\anaconda3\\lib\\site-packages (from tensorflow-intel==2.12.0->tensorflow<2.16,>=2.10->mediapipe-model-maker) (1.6.3)\n",
      "Requirement already satisfied: gast<=0.4.0,>=0.2.1 in c:\\programdata\\anaconda3\\lib\\site-packages (from tensorflow-intel==2.12.0->tensorflow<2.16,>=2.10->mediapipe-model-maker) (0.4.0)\n",
      "Requirement already satisfied: google-pasta>=0.1.1 in c:\\programdata\\anaconda3\\lib\\site-packages (from tensorflow-intel==2.12.0->tensorflow<2.16,>=2.10->mediapipe-model-maker) (0.2.0)\n",
      "Requirement already satisfied: h5py>=2.9.0 in c:\\programdata\\anaconda3\\lib\\site-packages (from tensorflow-intel==2.12.0->tensorflow<2.16,>=2.10->mediapipe-model-maker) (3.11.0)\n",
      "Requirement already satisfied: libclang>=13.0.0 in c:\\programdata\\anaconda3\\lib\\site-packages (from tensorflow-intel==2.12.0->tensorflow<2.16,>=2.10->mediapipe-model-maker) (18.1.1)\n",
      "Collecting numpy (from mediapipe-model-maker)\n",
      "  Using cached numpy-1.23.5-cp311-cp311-win_amd64.whl.metadata (2.3 kB)\n",
      "Requirement already satisfied: opt-einsum>=2.3.2 in c:\\users\\muhammad prakarsa\\appdata\\roaming\\python\\python311\\site-packages (from tensorflow-intel==2.12.0->tensorflow<2.16,>=2.10->mediapipe-model-maker) (3.3.0)\n",
      "Requirement already satisfied: packaging in c:\\programdata\\anaconda3\\lib\\site-packages (from tensorflow-intel==2.12.0->tensorflow<2.16,>=2.10->mediapipe-model-maker) (23.2)\n",
      "Requirement already satisfied: setuptools in c:\\users\\muhammad prakarsa\\appdata\\roaming\\python\\python311\\site-packages (from tensorflow-intel==2.12.0->tensorflow<2.16,>=2.10->mediapipe-model-maker) (70.0.0)\n",
      "Requirement already satisfied: six>=1.12.0 in c:\\programdata\\anaconda3\\lib\\site-packages (from tensorflow-intel==2.12.0->tensorflow<2.16,>=2.10->mediapipe-model-maker) (1.16.0)\n",
      "Requirement already satisfied: termcolor>=1.1.0 in c:\\programdata\\anaconda3\\lib\\site-packages (from tensorflow-intel==2.12.0->tensorflow<2.16,>=2.10->mediapipe-model-maker) (2.4.0)\n",
      "Requirement already satisfied: typing-extensions>=3.6.6 in c:\\programdata\\anaconda3\\lib\\site-packages (from tensorflow-intel==2.12.0->tensorflow<2.16,>=2.10->mediapipe-model-maker) (4.11.0)\n",
      "Requirement already satisfied: wrapt<1.15,>=1.11.0 in c:\\programdata\\anaconda3\\lib\\site-packages (from tensorflow-intel==2.12.0->tensorflow<2.16,>=2.10->mediapipe-model-maker) (1.14.1)\n",
      "Requirement already satisfied: grpcio<2.0,>=1.24.3 in c:\\programdata\\anaconda3\\lib\\site-packages (from tensorflow-intel==2.12.0->tensorflow<2.16,>=2.10->mediapipe-model-maker) (1.64.0)\n",
      "Requirement already satisfied: tensorboard<2.13,>=2.12 in c:\\programdata\\anaconda3\\lib\\site-packages (from tensorflow-intel==2.12.0->tensorflow<2.16,>=2.10->mediapipe-model-maker) (2.12.3)\n",
      "Requirement already satisfied: tensorflow-estimator<2.13,>=2.12.0 in c:\\programdata\\anaconda3\\lib\\site-packages (from tensorflow-intel==2.12.0->tensorflow<2.16,>=2.10->mediapipe-model-maker) (2.12.0)\n",
      "Requirement already satisfied: keras<2.13,>=2.12.0 in c:\\programdata\\anaconda3\\lib\\site-packages (from tensorflow-intel==2.12.0->tensorflow<2.16,>=2.10->mediapipe-model-maker) (2.12.0)\n",
      "Requirement already satisfied: tensorflow-io-gcs-filesystem>=0.23.1 in c:\\programdata\\anaconda3\\lib\\site-packages (from tensorflow-intel==2.12.0->tensorflow<2.16,>=2.10->mediapipe-model-maker) (0.31.0)\n",
      "Collecting Cython (from tf-models-official>=2.13.1->mediapipe-model-maker)\n",
      "  Downloading Cython-3.0.10-cp311-cp311-win_amd64.whl.metadata (3.2 kB)\n",
      "Requirement already satisfied: Pillow in c:\\programdata\\anaconda3\\lib\\site-packages (from tf-models-official>=2.13.1->mediapipe-model-maker) (10.3.0)\n",
      "Collecting gin-config (from tf-models-official>=2.13.1->mediapipe-model-maker)\n",
      "  Downloading gin_config-0.5.0-py3-none-any.whl.metadata (2.9 kB)\n",
      "Collecting google-api-python-client>=1.6.7 (from tf-models-official>=2.13.1->mediapipe-model-maker)\n",
      "  Downloading google_api_python_client-2.133.0-py2.py3-none-any.whl.metadata (6.7 kB)\n",
      "Collecting immutabledict (from tf-models-official>=2.13.1->mediapipe-model-maker)\n",
      "  Downloading immutabledict-4.2.0-py3-none-any.whl.metadata (3.4 kB)\n",
      "Collecting kaggle>=1.3.9 (from tf-models-official>=2.13.1->mediapipe-model-maker)\n",
      "  Downloading kaggle-1.6.14.tar.gz (82 kB)\n",
      "     ---------------------------------------- 0.0/82.1 kB ? eta -:--:--\n",
      "     ---------------------------------------- 0.0/82.1 kB ? eta -:--:--\n",
      "     ---------------------------------------- 0.0/82.1 kB ? eta -:--:--\n",
      "     ---------------------------------------- 0.0/82.1 kB ? eta -:--:--\n",
      "     ---- ----------------------------------- 10.2/82.1 kB ? eta -:--:--\n",
      "     ---- ----------------------------------- 10.2/82.1 kB ? eta -:--:--\n",
      "     ---- ----------------------------------- 10.2/82.1 kB ? eta -:--:--\n",
      "     -------------- ----------------------- 30.7/82.1 kB 217.9 kB/s eta 0:00:01\n",
      "     -------------- ----------------------- 30.7/82.1 kB 217.9 kB/s eta 0:00:01\n",
      "     ------------------ ------------------- 41.0/82.1 kB 163.4 kB/s eta 0:00:01\n",
      "     ---------------------------- --------- 61.4/82.1 kB 217.9 kB/s eta 0:00:01\n",
      "     -------------------------------------  81.9/82.1 kB 241.3 kB/s eta 0:00:01\n",
      "     -------------------------------------- 82.1/82.1 kB 208.9 kB/s eta 0:00:00\n",
      "  Preparing metadata (setup.py): started\n",
      "  Preparing metadata (setup.py): finished with status 'done'\n",
      "Collecting oauth2client (from tf-models-official>=2.13.1->mediapipe-model-maker)\n",
      "  Downloading oauth2client-4.1.3-py2.py3-none-any.whl.metadata (1.2 kB)\n",
      "Collecting opencv-python-headless (from tf-models-official>=2.13.1->mediapipe-model-maker)\n",
      "  Downloading opencv_python_headless-4.10.0.82-cp37-abi3-win_amd64.whl.metadata (20 kB)\n",
      "Requirement already satisfied: pandas>=0.22.0 in c:\\programdata\\anaconda3\\lib\\site-packages (from tf-models-official>=2.13.1->mediapipe-model-maker) (2.2.1)\n",
      "Requirement already satisfied: psutil>=5.4.3 in c:\\programdata\\anaconda3\\lib\\site-packages (from tf-models-official>=2.13.1->mediapipe-model-maker) (5.9.0)\n",
      "Requirement already satisfied: py-cpuinfo>=3.3.0 in c:\\programdata\\anaconda3\\lib\\site-packages (from tf-models-official>=2.13.1->mediapipe-model-maker) (9.0.0)\n",
      "Collecting pycocotools (from tf-models-official>=2.13.1->mediapipe-model-maker)\n",
      "  Downloading pycocotools-2.0.7-cp311-cp311-win_amd64.whl.metadata (1.1 kB)\n",
      "Requirement already satisfied: pyyaml>=6.0.0 in c:\\programdata\\anaconda3\\lib\\site-packages (from tf-models-official>=2.13.1->mediapipe-model-maker) (6.0.1)\n",
      "Collecting sacrebleu (from tf-models-official>=2.13.1->mediapipe-model-maker)\n",
      "  Downloading sacrebleu-2.4.2-py3-none-any.whl.metadata (58 kB)\n",
      "     ---------------------------------------- 0.0/58.0 kB ? eta -:--:--\n",
      "     ------- -------------------------------- 10.2/58.0 kB ? eta -:--:--\n",
      "     -------------------- ----------------- 30.7/58.0 kB 660.6 kB/s eta 0:00:01\n",
      "     --------------------------------- ---- 51.2/58.0 kB 525.1 kB/s eta 0:00:01\n",
      "     --------------------------------- ---- 51.2/58.0 kB 525.1 kB/s eta 0:00:01\n",
      "     -------------------------------------- 58.0/58.0 kB 339.0 kB/s eta 0:00:00\n",
      "Requirement already satisfied: scipy>=0.19.1 in c:\\programdata\\anaconda3\\lib\\site-packages (from tf-models-official>=2.13.1->mediapipe-model-maker) (1.13.0)\n",
      "Collecting sentencepiece (from tf-models-official>=2.13.1->mediapipe-model-maker)\n",
      "  Downloading sentencepiece-0.2.0-cp311-cp311-win_amd64.whl.metadata (8.3 kB)\n",
      "Collecting seqeval (from tf-models-official>=2.13.1->mediapipe-model-maker)\n",
      "  Downloading seqeval-1.2.2.tar.gz (43 kB)\n",
      "     ---------------------------------------- 0.0/43.6 kB ? eta -:--:--\n",
      "     --------- ------------------------------ 10.2/43.6 kB ? eta -:--:--\n",
      "     ----------------------------------- -- 41.0/43.6 kB 991.0 kB/s eta 0:00:01\n",
      "     ----------------------------------- -- 41.0/43.6 kB 991.0 kB/s eta 0:00:01\n",
      "     -------------------------------------- 43.6/43.6 kB 213.9 kB/s eta 0:00:00\n",
      "  Preparing metadata (setup.py): started\n",
      "  Preparing metadata (setup.py): finished with status 'done'\n",
      "Collecting tensorflow-model-optimization>=0.4.1 (from tf-models-official>=2.13.1->mediapipe-model-maker)\n",
      "  Downloading tensorflow_model_optimization-0.8.0-py2.py3-none-any.whl.metadata (904 bytes)\n",
      "INFO: pip is looking at multiple versions of tf-models-official to determine which version is compatible with other requirements. This could take a while.\n",
      "Collecting tf-models-official>=2.13.1 (from mediapipe-model-maker)\n",
      "  Downloading tf_models_official-2.15.0-py2.py3-none-any.whl.metadata (1.4 kB)\n",
      "  Downloading tf_models_official-2.14.2-py2.py3-none-any.whl.metadata (1.4 kB)\n",
      "  Downloading tf_models_official-2.14.1-py2.py3-none-any.whl.metadata (1.4 kB)\n",
      "  Downloading tf_models_official-2.14.0-py2.py3-none-any.whl.metadata (1.4 kB)\n",
      "  Downloading tf_models_official-2.13.2-py2.py3-none-any.whl.metadata (1.4 kB)\n",
      "  Downloading tf_models_official-2.13.1-py2.py3-none-any.whl.metadata (1.4 kB)\n",
      "Collecting pyyaml<5.4.0,>=5.1 (from tf-models-official>=2.13.1->mediapipe-model-maker)\n",
      "  Downloading PyYAML-5.3.1.tar.gz (269 kB)\n",
      "     ---------------------------------------- 0.0/269.4 kB ? eta -:--:--\n",
      "     ---------------------------------------- 0.0/269.4 kB ? eta -:--:--\n",
      "     ---------------------------------------- 0.0/269.4 kB ? eta -:--:--\n",
      "     ---------------------------------------- 0.0/269.4 kB ? eta -:--:--\n",
      "     ---------------------------------------- 0.0/269.4 kB ? eta -:--:--\n",
      "     - -------------------------------------- 10.2/269.4 kB ? eta -:--:--\n",
      "     - -------------------------------------- 10.2/269.4 kB ? eta -:--:--\n",
      "     - -------------------------------------- 10.2/269.4 kB ? eta -:--:--\n",
      "     ---- -------------------------------- 30.7/269.4 kB 163.8 kB/s eta 0:00:02\n",
      "     ---- -------------------------------- 30.7/269.4 kB 163.8 kB/s eta 0:00:02\n",
      "     ----- ------------------------------- 41.0/269.4 kB 151.3 kB/s eta 0:00:02\n",
      "     -------- ---------------------------- 61.4/269.4 kB 192.5 kB/s eta 0:00:02\n",
      "     ----------- ------------------------- 81.9/269.4 kB 229.0 kB/s eta 0:00:01\n",
      "     ------------ ------------------------ 92.2/269.4 kB 227.6 kB/s eta 0:00:01\n",
      "     ---------------- ------------------- 122.9/269.4 kB 266.9 kB/s eta 0:00:01\n",
      "     --------------------- -------------- 163.8/269.4 kB 327.5 kB/s eta 0:00:01\n",
      "     --------------------------- -------- 204.8/269.4 kB 365.7 kB/s eta 0:00:01\n",
      "     ---------------------------------- - 256.0/269.4 kB 425.2 kB/s eta 0:00:01\n",
      "     -----------------------------------  266.2/269.4 kB 442.9 kB/s eta 0:00:01\n",
      "     ------------------------------------ 269.4/269.4 kB 394.4 kB/s eta 0:00:00\n",
      "  Preparing metadata (setup.py): started\n",
      "  Preparing metadata (setup.py): finished with status 'done'\n",
      "Collecting mediapipe-model-maker\n",
      "  Downloading mediapipe_model_maker-0.2.1.2-py3-none-any.whl.metadata (1.6 kB)\n",
      "INFO: pip is still looking at multiple versions of tf-models-official to determine which version is compatible with other requirements. This could take a while.\n",
      "INFO: This is taking longer than usual. You might need to provide the dependency resolver with stricter constraints to reduce runtime. See https://pip.pypa.io/warnings/backtracking for guidance. If you want to abort this run, press Ctrl + C.\n",
      "  Downloading mediapipe_model_maker-0.2.1.1-py3-none-any.whl.metadata (1.6 kB)\n",
      "  Downloading mediapipe_model_maker-0.2.1-py3-none-any.whl.metadata (1.6 kB)\n",
      "  Downloading mediapipe_model_maker-0.2.0-py3-none-any.whl.metadata (1.5 kB)\n",
      "Collecting tf-models-official==2.11.6 (from mediapipe-model-maker)\n",
      "  Downloading tf_models_official-2.11.6-py2.py3-none-any.whl.metadata (1.5 kB)\n",
      "Collecting pyyaml<6.0,>=5.1 (from tf-models-official==2.11.6->mediapipe-model-maker)\n",
      "  Downloading PyYAML-5.4.1.tar.gz (175 kB)\n",
      "     ---------------------------------------- 0.0/175.1 kB ? eta -:--:--\n",
      "     ------ -------------------------------- 30.7/175.1 kB 1.3 MB/s eta 0:00:01\n",
      "     ------------------------ ------------- 112.6/175.1 kB 1.6 MB/s eta 0:00:01\n",
      "     -------------------------------------  174.1/175.1 kB 1.5 MB/s eta 0:00:01\n",
      "     -------------------------------------  174.1/175.1 kB 1.5 MB/s eta 0:00:01\n",
      "     ------------------------------------ 175.1/175.1 kB 877.2 kB/s eta 0:00:00\n",
      "  Installing build dependencies: started\n",
      "  Installing build dependencies: finished with status 'done'\n",
      "  Getting requirements to build wheel: started\n",
      "  Getting requirements to build wheel: finished with status 'error'\n"
     ]
    },
    {
     "name": "stderr",
     "output_type": "stream",
     "text": [
      "  error: subprocess-exited-with-error\n",
      "  \n",
      "  Getting requirements to build wheel did not run successfully.\n",
      "  exit code: 1\n",
      "  \n",
      "  [54 lines of output]\n",
      "  running egg_info\n",
      "  writing lib3\\PyYAML.egg-info\\PKG-INFO\n",
      "  writing dependency_links to lib3\\PyYAML.egg-info\\dependency_links.txt\n",
      "  writing top-level names to lib3\\PyYAML.egg-info\\top_level.txt\n",
      "  Traceback (most recent call last):\n",
      "    File \"C:\\Users\\Muhammad Prakarsa\\AppData\\Roaming\\Python\\Python311\\site-packages\\pip\\_vendor\\pyproject_hooks\\_in_process\\_in_process.py\", line 353, in <module>\n",
      "      main()\n",
      "    File \"C:\\Users\\Muhammad Prakarsa\\AppData\\Roaming\\Python\\Python311\\site-packages\\pip\\_vendor\\pyproject_hooks\\_in_process\\_in_process.py\", line 335, in main\n",
      "      json_out['return_val'] = hook(**hook_input['kwargs'])\n",
      "                               ^^^^^^^^^^^^^^^^^^^^^^^^^^^^\n",
      "    File \"C:\\Users\\Muhammad Prakarsa\\AppData\\Roaming\\Python\\Python311\\site-packages\\pip\\_vendor\\pyproject_hooks\\_in_process\\_in_process.py\", line 118, in get_requires_for_build_wheel\n",
      "      return hook(config_settings)\n",
      "             ^^^^^^^^^^^^^^^^^^^^^\n",
      "    File \"C:\\Users\\Muhammad Prakarsa\\AppData\\Local\\Temp\\pip-build-env-0n5rhf36\\overlay\\Lib\\site-packages\\setuptools\\build_meta.py\", line 325, in get_requires_for_build_wheel\n",
      "      return self._get_build_requires(config_settings, requirements=['wheel'])\n",
      "             ^^^^^^^^^^^^^^^^^^^^^^^^^^^^^^^^^^^^^^^^^^^^^^^^^^^^^^^^^^^^^^^^^\n",
      "    File \"C:\\Users\\Muhammad Prakarsa\\AppData\\Local\\Temp\\pip-build-env-0n5rhf36\\overlay\\Lib\\site-packages\\setuptools\\build_meta.py\", line 295, in _get_build_requires\n",
      "      self.run_setup()\n",
      "    File \"C:\\Users\\Muhammad Prakarsa\\AppData\\Local\\Temp\\pip-build-env-0n5rhf36\\overlay\\Lib\\site-packages\\setuptools\\build_meta.py\", line 311, in run_setup\n",
      "      exec(code, locals())\n",
      "    File \"<string>\", line 271, in <module>\n",
      "    File \"C:\\Users\\Muhammad Prakarsa\\AppData\\Local\\Temp\\pip-build-env-0n5rhf36\\overlay\\Lib\\site-packages\\setuptools\\__init__.py\", line 103, in setup\n",
      "      return distutils.core.setup(**attrs)\n",
      "             ^^^^^^^^^^^^^^^^^^^^^^^^^^^^^\n",
      "    File \"C:\\Users\\Muhammad Prakarsa\\AppData\\Local\\Temp\\pip-build-env-0n5rhf36\\overlay\\Lib\\site-packages\\setuptools\\_distutils\\core.py\", line 184, in setup\n",
      "      return run_commands(dist)\n",
      "             ^^^^^^^^^^^^^^^^^^\n",
      "    File \"C:\\Users\\Muhammad Prakarsa\\AppData\\Local\\Temp\\pip-build-env-0n5rhf36\\overlay\\Lib\\site-packages\\setuptools\\_distutils\\core.py\", line 200, in run_commands\n",
      "      dist.run_commands()\n",
      "    File \"C:\\Users\\Muhammad Prakarsa\\AppData\\Local\\Temp\\pip-build-env-0n5rhf36\\overlay\\Lib\\site-packages\\setuptools\\_distutils\\dist.py\", line 969, in run_commands\n",
      "      self.run_command(cmd)\n",
      "    File \"C:\\Users\\Muhammad Prakarsa\\AppData\\Local\\Temp\\pip-build-env-0n5rhf36\\overlay\\Lib\\site-packages\\setuptools\\dist.py\", line 968, in run_command\n",
      "      super().run_command(command)\n",
      "    File \"C:\\Users\\Muhammad Prakarsa\\AppData\\Local\\Temp\\pip-build-env-0n5rhf36\\overlay\\Lib\\site-packages\\setuptools\\_distutils\\dist.py\", line 988, in run_command\n",
      "      cmd_obj.run()\n",
      "    File \"C:\\Users\\Muhammad Prakarsa\\AppData\\Local\\Temp\\pip-build-env-0n5rhf36\\overlay\\Lib\\site-packages\\setuptools\\command\\egg_info.py\", line 321, in run\n",
      "      self.find_sources()\n",
      "    File \"C:\\Users\\Muhammad Prakarsa\\AppData\\Local\\Temp\\pip-build-env-0n5rhf36\\overlay\\Lib\\site-packages\\setuptools\\command\\egg_info.py\", line 329, in find_sources\n",
      "      mm.run()\n",
      "    File \"C:\\Users\\Muhammad Prakarsa\\AppData\\Local\\Temp\\pip-build-env-0n5rhf36\\overlay\\Lib\\site-packages\\setuptools\\command\\egg_info.py\", line 550, in run\n",
      "      self.add_defaults()\n",
      "    File \"C:\\Users\\Muhammad Prakarsa\\AppData\\Local\\Temp\\pip-build-env-0n5rhf36\\overlay\\Lib\\site-packages\\setuptools\\command\\egg_info.py\", line 588, in add_defaults\n",
      "      sdist.add_defaults(self)\n",
      "    File \"C:\\Users\\Muhammad Prakarsa\\AppData\\Local\\Temp\\pip-build-env-0n5rhf36\\overlay\\Lib\\site-packages\\setuptools\\command\\sdist.py\", line 102, in add_defaults\n",
      "      super().add_defaults()\n",
      "    File \"C:\\Users\\Muhammad Prakarsa\\AppData\\Local\\Temp\\pip-build-env-0n5rhf36\\overlay\\Lib\\site-packages\\setuptools\\_distutils\\command\\sdist.py\", line 250, in add_defaults\n",
      "      self._add_defaults_ext()\n",
      "    File \"C:\\Users\\Muhammad Prakarsa\\AppData\\Local\\Temp\\pip-build-env-0n5rhf36\\overlay\\Lib\\site-packages\\setuptools\\_distutils\\command\\sdist.py\", line 335, in _add_defaults_ext\n",
      "      self.filelist.extend(build_ext.get_source_files())\n",
      "                           ^^^^^^^^^^^^^^^^^^^^^^^^^^^^\n",
      "    File \"<string>\", line 201, in get_source_files\n",
      "    File \"C:\\Users\\Muhammad Prakarsa\\AppData\\Local\\Temp\\pip-build-env-0n5rhf36\\overlay\\Lib\\site-packages\\setuptools\\_distutils\\cmd.py\", line 107, in __getattr__\n",
      "      raise AttributeError(attr)\n",
      "  AttributeError: cython_sources\n",
      "  [end of output]\n",
      "  \n",
      "  note: This error originates from a subprocess, and is likely not a problem with pip.\n",
      "error: subprocess-exited-with-error\n",
      "\n",
      "Getting requirements to build wheel did not run successfully.\n",
      "exit code: 1\n",
      "\n",
      "See above for output.\n",
      "\n",
      "note: This error originates from a subprocess, and is likely not a problem with pip.\n"
     ]
    }
   ],
   "source": [
    "!python --version\n",
    "!pip install --upgrade pip\n",
    "!pip install mediapipe-model-maker"
   ]
  },
  {
   "cell_type": "code",
   "execution_count": 2,
   "metadata": {
    "id": "oazmbPzKHYFq"
   },
   "outputs": [
    {
     "ename": "ModuleNotFoundError",
     "evalue": "No module named 'google.colab'",
     "output_type": "error",
     "traceback": [
      "\u001b[1;31m---------------------------------------------------------------------------\u001b[0m",
      "\u001b[1;31mModuleNotFoundError\u001b[0m                       Traceback (most recent call last)",
      "Cell \u001b[1;32mIn[2], line 1\u001b[0m\n\u001b[1;32m----> 1\u001b[0m \u001b[38;5;28;01mfrom\u001b[39;00m \u001b[38;5;21;01mgoogle\u001b[39;00m\u001b[38;5;21;01m.\u001b[39;00m\u001b[38;5;21;01mcolab\u001b[39;00m \u001b[38;5;28;01mimport\u001b[39;00m files\n\u001b[0;32m      2\u001b[0m \u001b[38;5;28;01mimport\u001b[39;00m \u001b[38;5;21;01mos\u001b[39;00m\n\u001b[0;32m      3\u001b[0m \u001b[38;5;28;01mimport\u001b[39;00m \u001b[38;5;21;01mjson\u001b[39;00m\n",
      "\u001b[1;31mModuleNotFoundError\u001b[0m: No module named 'google.colab'"
     ]
    }
   ],
   "source": [
    "from google.colab import files\n",
    "import os\n",
    "import json\n",
    "import tensorflow as tf\n",
    "assert tf.__version__.startswith('2')\n",
    "\n",
    "from mediapipe_model_maker import object_detector"
   ]
  },
  {
   "cell_type": "markdown",
   "metadata": {
    "id": "_zP1AkaRL72Z"
   },
   "source": [
    "# **Prepare data**"
   ]
  },
  {
   "cell_type": "code",
   "execution_count": null,
   "metadata": {
    "id": "Mz3-eHe07FEX"
   },
   "outputs": [],
   "source": [
    "train_dataset_path = \"blocks/train\"\n",
    "validation_dataset_path = \"blocks/validation\""
   ]
  },
  {
   "cell_type": "markdown",
   "metadata": {
    "id": "G7TPn8Mb_aJb"
   },
   "source": [
    "# **Review dataset**"
   ]
  },
  {
   "cell_type": "code",
   "execution_count": null,
   "metadata": {
    "id": "2f_Z-TAwNK3n"
   },
   "outputs": [],
   "source": [
    "with open(os.path.join(train_dataset_path, \"labels.json\"), \"r\") as f:\n",
    "  labels_json = json.load(f)\n",
    "for category_item in labels_json[\"categories\"]:\n",
    "  print(f\"{category_item['id']}: {category_item['name']}\")"
   ]
  },
  {
   "cell_type": "code",
   "execution_count": null,
   "metadata": {
    "id": "6kTw3uodPl7-"
   },
   "outputs": [],
   "source": [
    "#@title Visualize the training dataset\n",
    "import matplotlib.pyplot as plt\n",
    "from matplotlib import patches, text, patheffects\n",
    "from collections import defaultdict\n",
    "import math\n",
    "\n",
    "def draw_outline(obj):\n",
    "  obj.set_path_effects([patheffects.Stroke(linewidth=4,  foreground='black'), patheffects.Normal()])\n",
    "def draw_box(ax, bb):\n",
    "  patch = ax.add_patch(patches.Rectangle((bb[0],bb[1]), bb[2], bb[3], fill=False, edgecolor='red', lw=2))\n",
    "  draw_outline(patch)\n",
    "def draw_text(ax, bb, txt, disp):\n",
    "  text = ax.text(bb[0],(bb[1]-disp),txt,verticalalignment='top'\n",
    "  ,color='white',fontsize=10,weight='bold')\n",
    "  draw_outline(text)\n",
    "def draw_bbox(ax, annotations_list, id_to_label, image_shape):\n",
    "  for annotation in annotations_list:\n",
    "    cat_id = annotation[\"category_id\"]\n",
    "    bbox = annotation[\"bbox\"]\n",
    "    draw_box(ax, bbox)\n",
    "    draw_text(ax, bbox, id_to_label[cat_id], image_shape[0] * 0.05)\n",
    "def visualize(dataset_folder, max_examples=None):\n",
    "  with open(os.path.join(dataset_folder, \"labels.json\"), \"r\") as f:\n",
    "    labels_json = json.load(f)\n",
    "  images = labels_json[\"images\"]\n",
    "  cat_id_to_label = {item[\"id\"]:item[\"name\"] for item in labels_json[\"categories\"]}\n",
    "  image_annots = defaultdict(list)\n",
    "  for annotation_obj in labels_json[\"annotations\"]:\n",
    "    image_id = annotation_obj[\"image_id\"]\n",
    "    image_annots[image_id].append(annotation_obj)\n",
    "\n",
    "  if max_examples is None:\n",
    "    max_examples = len(image_annots.items())\n",
    "  n_rows = math.ceil(max_examples / 3)\n",
    "  fig, axs = plt.subplots(n_rows, 3, figsize=(24, n_rows*8)) # 3 columns(2nd index), 8x8 for each image\n",
    "  for ind, (image_id, annotations_list) in enumerate(list(image_annots.items())[:max_examples]):\n",
    "    ax = axs[ind//3, ind%3]\n",
    "    img = plt.imread(os.path.join(dataset_folder, \"images\", images[image_id][\"file_name\"]))\n",
    "    ax.imshow(img)\n",
    "    draw_bbox(ax, annotations_list, cat_id_to_label, img.shape)\n",
    "  plt.show()\n",
    "\n",
    "visualize(train_dataset_path, 5)"
   ]
  },
  {
   "cell_type": "code",
   "execution_count": null,
   "metadata": {
    "id": "EOdyImqyI6s-"
   },
   "outputs": [],
   "source": [
    "train_data = object_detector.Dataset.from_coco_folder(train_dataset_path, cache_dir=\"/tmp/od_data/train\")\n",
    "validation_data = object_detector.Dataset.from_coco_folder(validation_dataset_path, cache_dir=\"/tmp/od_data/validation\")\n",
    "print(\"train_data size: \", train_data.size)\n",
    "print(\"validation_data size: \", validation_data.size)"
   ]
  },
  {
   "cell_type": "markdown",
   "metadata": {
    "id": "ODK4BN5N8Rdi"
   },
   "source": [
    "# **Training**"
   ]
  },
  {
   "cell_type": "code",
   "execution_count": null,
   "metadata": {
    "id": "4ZHjWHM1JyiN"
   },
   "outputs": [],
   "source": [
    "spec = object_detector.SupportedModels.MOBILENET_MULTI_AVG\n",
    "hparams = object_detector.HParams(export_dir='exported_model')\n",
    "options = object_detector.ObjectDetectorOptions(\n",
    "    supported_model=spec,\n",
    "    hparams=hparams\n",
    ")"
   ]
  },
  {
   "cell_type": "code",
   "execution_count": null,
   "metadata": {
    "id": "V5bIsWBZCb8d"
   },
   "outputs": [],
   "source": [
    "model = object_detector.ObjectDetector.create(\n",
    "    train_data=train_data,\n",
    "    validation_data=validation_data,\n",
    "    options=options)"
   ]
  },
  {
   "cell_type": "markdown",
   "metadata": {
    "id": "5tLbtkz66KQR"
   },
   "source": [
    "# **Evaluate**"
   ]
  },
  {
   "cell_type": "code",
   "execution_count": null,
   "metadata": {
    "id": "T9RbNGJY6MY1"
   },
   "outputs": [],
   "source": [
    "loss, coco_metrics = model.evaluate(validation_data, batch_size=4)\n",
    "print(f\"Validation loss: {loss}\")\n",
    "print(f\"Validation coco metrics: {coco_metrics}\")"
   ]
  },
  {
   "cell_type": "markdown",
   "metadata": {
    "id": "3LAOdfyxmmzS"
   },
   "source": [
    "# **Export Model**"
   ]
  },
  {
   "cell_type": "code",
   "execution_count": null,
   "metadata": {
    "id": "PWZqnGEKVP13"
   },
   "outputs": [],
   "source": [
    "model.export_model()\n",
    "!ls exported_model\n",
    "files.download('exported_model/model.tflite')"
   ]
  },
  {
   "cell_type": "markdown",
   "metadata": {
    "id": "UcYu5ENbT4T6"
   },
   "source": [
    "## **Model quantization**"
   ]
  },
  {
   "cell_type": "code",
   "execution_count": null,
   "metadata": {
    "id": "_7nRSQT9WCS-"
   },
   "outputs": [],
   "source": [
    "qat_hparams = object_detector.QATHParams(learning_rate=0.1, batch_size=4, epochs=30, decay_steps=12, decay_rate=0.99)\n",
    "model.quantization_aware_training(train_data, validation_data, qat_hparams=qat_hparams)\n",
    "qat_loss, qat_coco_metrics = model.evaluate(validation_data)\n",
    "print(f\"QAT validation loss: {qat_loss}\")\n",
    "print(f\"QAT validation coco metrics: {qat_coco_metrics}\")"
   ]
  },
  {
   "cell_type": "code",
   "execution_count": null,
   "metadata": {
    "id": "rsixePxCWJDp"
   },
   "outputs": [],
   "source": [
    "model.export_model('model_int8_qat.tflite')\n",
    "!ls -lh exported_model\n",
    "files.download('exported_model/model_int8_qat.tflite')"
   ]
  },
  {
   "cell_type": "markdown",
   "metadata": {
    "id": "eO8nZR3Cgx8_"
   },
   "source": [
    "#**Post-training quantization (fp32 quantization)**"
   ]
  },
  {
   "cell_type": "code",
   "execution_count": null,
   "metadata": {
    "id": "Yo7cQ_N-ZE8A"
   },
   "outputs": [],
   "source": [
    "from mediapipe_model_maker import model"
   ]
  },
  {
   "cell_type": "code",
   "execution_count": null,
   "metadata": {
    "id": "kbwc3g_Fa3dv"
   },
   "outputs": [],
   "source": [
    "quantization_config = quantization.QuantizationConfig.for_float32()"
   ]
  },
  {
   "cell_type": "code",
   "execution_count": null,
   "metadata": {
    "id": "mmzEu_AjbMPI"
   },
   "outputs": [],
   "source": [
    "model.restore_float_ckpt()\n",
    "model.export_model(model_name=\"model_fp32.tflite\", quantization_config=quantization_config)\n",
    "!ls -lh exported_model\n",
    "files.download('exported_model/model_fp32.tflite')"
   ]
  },
  {
   "cell_type": "markdown",
   "metadata": {
    "id": "9HCrUl8z6liX"
   },
   "source": [
    "## Benchmarking\n",
    "Below is a summary of our benchmarking results for the supported model architectures. These models were trained and evaluated on the same android figurines dataset as this notebook. When considering the model benchmarking results, there are a few important caveats to keep in mind:\n",
    "* The android figurines dataset is a small and simple dataset with 62 training examples and 10 validation examples. Since the dataset is quite small, metrics may vary drastically due to variances in the training process. This dataset was provided for demo purposes and it is recommended to collect more data samples for better performing models.\n",
    "* The float32 models were trained with the default HParams, and the QAT step for the int8 models was run with `QATHParams(learning_rate=0.1, batch_size=4, epochs=30, decay_rate=1)`.\n",
    "* For your own dataset, you will likely need to tune values for both HParams and QATHParams in order to achieve the best results. See the [Hyperparameters](#hyperparameters) section above for more information on configuring training parameters.\n",
    "* All latency numbers are benchmarked on the Pixel 6.\n",
    "\n",
    "\n",
    "<table>\n",
    "<thead>\n",
    "<col>\n",
    "<col>\n",
    "<colgroup span=\"2\"></colgroup>\n",
    "<colgroup span=\"2\"></colgroup>\n",
    "<colgroup span=\"2\"></colgroup>\n",
    "<tr>\n",
    "<th rowspan=\"2\">Model architecture</th>\n",
    "<th rowspan=\"2\">Input Image Size</th>\n",
    "<th colspan=\"2\" scope=\"colgroup\">Test AP</th>\n",
    "<th colspan=\"2\" scope=\"colgroup\">CPU Latency</th>\n",
    "<th colspan=\"2\" scope=\"colgroup\">Model Size</th>\n",
    "</tr>\n",
    "<tr>\n",
    "<th>float32</th>\n",
    "<th>QAT int8</th>\n",
    "<th>float32</th>\n",
    "<th>QAT int8</th>\n",
    "<th>float32</th>\n",
    "<th>QAT int8</th>\n",
    "</tr>\n",
    "</thead>\n",
    "<tbody>\n",
    "<tr>\n",
    "<td>MobileNetV2</td>\n",
    "<td>256x256</td>\n",
    "<td>88.4%</td>\n",
    "<td>73.5%</td>\n",
    "<td>48ms</td>\n",
    "<td>16ms</td>\n",
    "<td>11MB</td>\n",
    "<td>3.2MB</td>\n",
    "</tr>\n",
    "<tr>\n",
    "<td>MobileNetV2 I320</td>\n",
    "<td>320x320</td>\n",
    "<td>89.1%</td>\n",
    "<td>75.5%</td>\n",
    "<td>75ms</td>\n",
    "<td>33.38ms</td>\n",
    "<td>10MB</td>\n",
    "<td>3.3MB</td>\n",
    "</tr>\n",
    "<tr>\n",
    "<td>MobileNet MultiHW AVG</td>\n",
    "<td>256x256</td>\n",
    "<td>88.5%</td>\n",
    "<td>70.0%</td>\n",
    "<td>56ms</td>\n",
    "<td>19ms</td>\n",
    "<td>13MB</td>\n",
    "<td>3.6MB</td>\n",
    "</tr>\n",
    "<tr>\n",
    "<td>MobileNet MultiHW AVG I384</td>\n",
    "<td>384x384</td>\n",
    "<td>92.7%</td>\n",
    "<td>73.4%</td>\n",
    "<td>238ms</td>\n",
    "<td>41ms</td>\n",
    "<td>13MB</td>\n",
    "<td>3.6MB</td>\n",
    "</tr>\n",
    "\n",
    "</tbody>\n",
    "</table>\n",
    "\n"
   ]
  },
  {
   "cell_type": "code",
   "execution_count": null,
   "metadata": {
    "id": "TOCPzKohXxy6"
   },
   "outputs": [],
   "source": []
  }
 ],
 "metadata": {
  "colab": {
   "private_outputs": true,
   "provenance": []
  },
  "kernelspec": {
   "display_name": "Python 3 (ipykernel)",
   "language": "python",
   "name": "python3"
  },
  "language_info": {
   "codemirror_mode": {
    "name": "ipython",
    "version": 3
   },
   "file_extension": ".py",
   "mimetype": "text/x-python",
   "name": "python",
   "nbconvert_exporter": "python",
   "pygments_lexer": "ipython3",
   "version": "3.11.9"
  }
 },
 "nbformat": 4,
 "nbformat_minor": 4
}
