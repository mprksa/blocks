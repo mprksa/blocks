{
  "cells": [
    {
      "cell_type": "markdown",
      "metadata": {
        "id": "view-in-github",
        "colab_type": "text"
      },
      "source": [
        "<a href=\"https://colab.research.google.com/github/mprksa/blocks/blob/main/training2.ipynb\" target=\"_parent\"><img src=\"https://colab.research.google.com/assets/colab-badge.svg\" alt=\"Open In Colab\"/></a>"
      ]
    },
    {
      "cell_type": "markdown",
      "source": [
        "# **Bagian 1: Setup dan Instalasi**"
      ],
      "metadata": {
        "id": "LspZSZ77yUoy"
      }
    },
    {
      "cell_type": "code",
      "execution_count": null,
      "metadata": {
        "id": "UnB1pBO1OTjC"
      },
      "outputs": [],
      "source": [
        "# Import Dataset from GitHub\n",
        "!git clone https://github.com/mprksa/Blocks2.git"
      ]
    },
    {
      "cell_type": "code",
      "execution_count": null,
      "metadata": {
        "id": "GMSCcHh1LScM"
      },
      "outputs": [],
      "source": [
        "# Cek versi Python dan install paket yang diperlukan\n",
        "!python --version\n",
        "!pip install --upgrade pip\n",
        "!pip install mediapipe-model-maker"
      ]
    },
    {
      "cell_type": "markdown",
      "source": [
        "# **Bagian 2: Import dan Load Data**"
      ],
      "metadata": {
        "id": "JPXaUK3dyhQV"
      }
    },
    {
      "cell_type": "code",
      "execution_count": null,
      "metadata": {
        "id": "oazmbPzKHYFq"
      },
      "outputs": [],
      "source": [
        "# Import pustaka yang diperlukan\n",
        "import os\n",
        "import json\n",
        "import tensorflow as tf\n",
        "assert tf.__version__.startswith('2')\n",
        "from mediapipe_model_maker import object_detector"
      ]
    },
    {
      "cell_type": "code",
      "source": [
        "# Path ke dataset\n",
        "train_dataset_path = \"blocks/train\"\n",
        "validation_dataset_path = \"blocks/validation\"\n",
        "test_dataset_path = \"blocks/test\""
      ],
      "metadata": {
        "id": "fMnMDp8lyoTJ"
      },
      "execution_count": null,
      "outputs": []
    },
    {
      "cell_type": "code",
      "source": [
        "# Load label\n",
        "with open(os.path.join(train_dataset_path, \"labels.json\"), \"r\") as f:\n",
        "  labels_json = json.load(f)\n",
        "for category_item in labels_json[\"categories\"]:\n",
        "  print(f\"{category_item['id']}: {category_item['name']}\")\n"
      ],
      "metadata": {
        "id": "qadFsE70ysi-"
      },
      "execution_count": null,
      "outputs": []
    },
    {
      "cell_type": "markdown",
      "metadata": {
        "id": "G7TPn8Mb_aJb"
      },
      "source": [
        "# **Bagian 3: Visualisasi Dataset**"
      ]
    },
    {
      "cell_type": "code",
      "execution_count": null,
      "metadata": {
        "id": "6kTw3uodPl7-"
      },
      "outputs": [],
      "source": [
        "# Import pustaka untuk visualisasi\n",
        "import matplotlib.pyplot as plt\n",
        "from matplotlib import patches, text, patheffects\n",
        "from collections import defaultdict\n",
        "import math\n",
        "\n",
        "def draw_outline(obj):\n",
        "  obj.set_path_effects([patheffects.Stroke(linewidth=4,  foreground='black'), patheffects.Normal()])\n",
        "\n",
        "def draw_box(ax, bb):\n",
        "  patch = ax.add_patch(patches.Rectangle((bb[0],bb[1]), bb[2], bb[3], fill=False, edgecolor='red', lw=2))\n",
        "  draw_outline(patch)\n",
        "\n",
        "def draw_text(ax, bb, txt, disp):\n",
        "  text = ax.text(bb[0],(bb[1]-disp),txt,verticalalignment='top', color='white', fontsize=10, weight='bold')\n",
        "  draw_outline(text)\n",
        "\n",
        "def draw_bbox(ax, annotations_list, id_to_label, image_shape):\n",
        "  for annotation in annotations_list:\n",
        "    cat_id = annotation[\"category_id\"]\n",
        "    bbox = annotation[\"bbox\"]\n",
        "    draw_box(ax, bbox)\n",
        "    draw_text(ax, bbox, id_to_label[cat_id], image_shape[0] * 0.05)\n",
        "\n",
        "def visualize(dataset_folder, max_examples=None):\n",
        "  with open(os.path.join(dataset_folder, \"labels.json\"), \"r\") as f:\n",
        "    labels_json = json.load(f)\n",
        "  images = labels_json[\"images\"]\n",
        "  cat_id_to_label = {item[\"id\"]:item[\"name\"] for item in labels_json[\"categories\"]}\n",
        "  image_annots = defaultdict(list)\n",
        "  for annotation_obj in labels_json[\"annotations\"]:\n",
        "    image_id = annotation_obj[\"image_id\"]\n",
        "    image_annots[image_id].append(annotation_obj)\n",
        "\n",
        "  if max_examples is None:\n",
        "    max_examples = len(image_annots.items())\n",
        "  n_rows = math.ceil(max_examples / 3)\n",
        "  fig, axs = plt.subplots(n_rows, 3, figsize=(24, n_rows*8)) # 3 columns(2nd index), 8x8 for each image\n",
        "  for ind, (image_id, annotations_list) in enumerate(list(image_annots.items())[:max_examples]):\n",
        "    ax = axs[ind//3, ind%3]\n",
        "    img = plt.imread(os.path.join(dataset_folder, \"images\", images[image_id][\"file_name\"]))\n",
        "    ax.imshow(img)\n",
        "    draw_bbox(ax, annotations_list, cat_id_to_label, img.shape)\n",
        "  plt.show()\n",
        "\n",
        "visualize(train_dataset_path, 5)"
      ]
    },
    {
      "cell_type": "markdown",
      "metadata": {
        "id": "ODK4BN5N8Rdi"
      },
      "source": [
        "# **Bagian 4: Persiapan Dataset dan Training Model**"
      ]
    },
    {
      "cell_type": "code",
      "execution_count": null,
      "metadata": {
        "id": "4ZHjWHM1JyiN"
      },
      "outputs": [],
      "source": [
        "# Fungsi untuk menghitung jumlah data dalam setiap kelas\n",
        "def count_data_per_class(dataset_folder):\n",
        "  with open(os.path.join(dataset_folder, \"labels.json\"), \"r\") as f:\n",
        "    labels_json = json.load(f)\n",
        "  class_counts = defaultdict(int)\n",
        "  for annotation_obj in labels_json[\"annotations\"]:\n",
        "    class_counts[annotation_obj[\"category_id\"]] += 1\n",
        "  return class_counts\n",
        "\n",
        "train_class_counts = count_data_per_class(train_dataset_path)\n",
        "validation_class_counts = count_data_per_class(validation_dataset_path)\n",
        "test_class_counts = count_data_per_class(test_dataset_path)\n",
        "\n",
        "print(\"Train class counts:\", train_class_counts)\n",
        "print(\"Validation class counts:\", validation_class_counts)\n",
        "print(\"Test class counts:\", test_class_counts)"
      ]
    },
    {
      "cell_type": "code",
      "source": [
        "# Load dataset\n",
        "train_data = object_detector.Dataset.from_coco_folder(train_dataset_path, cache_dir=\"/tmp/od_data/train\")\n",
        "validation_data = object_detector.Dataset.from_coco_folder(validation_dataset_path, cache_dir=\"/tmp/od_data/validation\")\n",
        "test_data = object_detector.Dataset.from_coco_folder(test_dataset_path, cache_dir=\"/tmp/od_data/test\")\n",
        "print(\"train_data size: \", train_data.size)\n",
        "print(\"validation_data size: \", validation_data.size)\n",
        "print(\"test_data size: \", test_data.size)"
      ],
      "metadata": {
        "id": "QaEL4nY_M9eC"
      },
      "execution_count": null,
      "outputs": []
    },
    {
      "cell_type": "code",
      "source": [
        "# Spesifikasi model dan hyperparameters\n",
        "spec = object_detector.SupportedModels.MOBILENET_MULTI_AVG\n",
        "\n",
        "# Define hyperparameters\n",
        "epochs = 30  # Ubah sesuai kebutuhan\n",
        "steps_per_epoch = 12  # Ubah sesuai kebutuhan\n",
        "\n",
        "hparams = object_detector.HParams(\n",
        "    export_dir='exported_model',\n",
        "    epochs=epochs,\n",
        "    steps_per_epoch=steps_per_epoch\n",
        ")\n",
        "\n",
        "options = object_detector.ObjectDetectorOptions(\n",
        "    supported_model=spec,\n",
        "    hparams=hparams\n",
        ")"
      ],
      "metadata": {
        "id": "G23RvvicNL5x"
      },
      "execution_count": null,
      "outputs": []
    },
    {
      "cell_type": "code",
      "source": [
        "# Training model\n",
        "model = object_detector.ObjectDetector.create(\n",
        "    train_data=train_data,\n",
        "    validation_data=validation_data,\n",
        "    options=options)"
      ],
      "metadata": {
        "id": "Z7vqKTRazE0o"
      },
      "execution_count": null,
      "outputs": []
    },
    {
      "cell_type": "markdown",
      "metadata": {
        "id": "5tLbtkz66KQR"
      },
      "source": [
        "# **Bagian 5: Evaluasi Model**"
      ]
    },
    {
      "cell_type": "code",
      "execution_count": null,
      "metadata": {
        "id": "T9RbNGJY6MY1"
      },
      "outputs": [],
      "source": [
        "# Evaluasi model dengan dataset validasi\n",
        "validation_loss, validation_coco_metrics = model.evaluate(validation_data, batch_size=4)\n",
        "print(f\"Validation loss: {validation_loss}\")\n",
        "print(f\"Validation coco metrics: {validation_coco_metrics}\")"
      ]
    },
    {
      "cell_type": "code",
      "execution_count": null,
      "metadata": {
        "id": "PWZqnGEKVP13"
      },
      "outputs": [],
      "source": [
        "# Evaluasi model dengan dataset test\n",
        "test_loss, test_coco_metrics = model.evaluate(test_data, batch_size=4)\n",
        "print(f\"Test loss: {test_loss}\")\n",
        "print(f\"Test coco metrics: {test_coco_metrics}\")"
      ]
    },
    {
      "cell_type": "code",
      "source": [
        "# Ekspor model\n",
        "model.export_model()\n",
        "!ls exported_model\n",
        "files.download('exported_model/model.tflite')"
      ],
      "metadata": {
        "id": "9XmqDcHaNWOV"
      },
      "execution_count": null,
      "outputs": []
    },
    {
      "cell_type": "markdown",
      "source": [
        "# **Bagian 6: Menghitung Metrik Tambahan**"
      ],
      "metadata": {
        "id": "fwVyep8RzUlC"
      }
    },
    {
      "cell_type": "code",
      "source": [
        "# Import pustaka untuk menghitung metrik\n",
        "from sklearn.metrics import accuracy_score, f1_score, recall_score, confusion_matrix, ConfusionMatrixDisplay"
      ],
      "metadata": {
        "id": "E1DqPVUNzURf"
      },
      "execution_count": null,
      "outputs": []
    },
    {
      "cell_type": "code",
      "source": [
        "# Fungsi untuk mendapatkan nilai ground truth dan prediksi\n",
        "def get_ground_truth_and_predictions(model, dataset):\n",
        "    ground_truths = []\n",
        "    predictions = []\n",
        "    for data in dataset:\n",
        "        image, labels = data\n",
        "        pred = model.predict(image)\n",
        "        for label in labels:\n",
        "            ground_truths.append(label['category_id'])\n",
        "        for detection in pred.detections:\n",
        "            predictions.append(detection.label_id)\n",
        "    return ground_truths, predictions\n"
      ],
      "metadata": {
        "id": "kbhq0q08zZr_"
      },
      "execution_count": null,
      "outputs": []
    },
    {
      "cell_type": "code",
      "source": [
        "# Mendapatkan ground truths dan predictions untuk dataset validation\n",
        "validation_ground_truths, validation_predictions = get_ground_truth_and_predictions(model, validation_data)\n"
      ],
      "metadata": {
        "id": "GWqOpB2GNe2V"
      },
      "execution_count": null,
      "outputs": []
    },
    {
      "cell_type": "code",
      "source": [
        "# Menghitung confusion matrix untuk dataset validation\n",
        "validation_conf_matrix = confusion_matrix(validation_ground_truths, validation_predictions)\n",
        "print(f\"Validation Confusion Matrix: \\n{validation_conf_matrix}\")\n"
      ],
      "metadata": {
        "id": "e_s5tSlRNhEh"
      },
      "execution_count": null,
      "outputs": []
    },
    {
      "cell_type": "code",
      "source": [
        "# Mendapatkan ground truths dan predictions untuk dataset test\n",
        "test_ground_truths, test_predictions = get_ground_truth_and_predictions(model, test_data)\n"
      ],
      "metadata": {
        "id": "e1yELOwMNjtU"
      },
      "execution_count": null,
      "outputs": []
    },
    {
      "cell_type": "code",
      "source": [
        "# Menghitung confusion matrix untuk dataset test\n",
        "test_conf_matrix = confusion_matrix(test_ground_truths, test_predictions)\n",
        "print(f\"Test Confusion Matrix: \\n{test_conf_matrix}\")"
      ],
      "metadata": {
        "id": "wsUVXhtqNlX9"
      },
      "execution_count": null,
      "outputs": []
    },
    {
      "cell_type": "code",
      "source": [
        "# Fungsi untuk menampilkan confusion matrix\n",
        "def plot_confusion_matrix(conf_matrix, class_names, title):\n",
        "    disp = ConfusionMatrixDisplay(confusion_matrix=conf_matrix, display_labels=class_names)\n",
        "    disp.plot(cmap=plt.cm.Blues)\n",
        "    plt.title(title)\n",
        "    plt.show()"
      ],
      "metadata": {
        "id": "8iZOmCmwzc8Y"
      },
      "execution_count": null,
      "outputs": []
    },
    {
      "cell_type": "code",
      "source": [
        "# Mendapatkan nama kelas\n",
        "class_names = [item[\"name\"] for item in labels_json[\"categories\"]]\n"
      ],
      "metadata": {
        "id": "vYyrfrZ8Np-p"
      },
      "execution_count": null,
      "outputs": []
    },
    {
      "cell_type": "code",
      "source": [
        "# Menampilkan confusion matrix untuk dataset validation\n",
        "plot_confusion_matrix(validation_conf_matrix, class_names, \"Validation Confusion Matrix\")\n"
      ],
      "metadata": {
        "id": "9CoU4uwQNtAM"
      },
      "execution_count": null,
      "outputs": []
    },
    {
      "cell_type": "code",
      "source": [
        "# Menampilkan confusion matrix untuk dataset test\n",
        "plot_confusion_matrix(test_conf_matrix, class_names, \"Test Confusion Matrix\")\n"
      ],
      "metadata": {
        "id": "RL3ME3FaNvBd"
      },
      "execution_count": null,
      "outputs": []
    },
    {
      "cell_type": "markdown",
      "source": [
        "# **Bagian 7: Menampilkan Grafik Training dan Evaluasi Model**"
      ],
      "metadata": {
        "id": "HMFEIN410OoW"
      }
    },
    {
      "cell_type": "code",
      "source": [
        "# Fungsi untuk menampilkan grafik training dan evaluasi model\n",
        "def plot_training_history(history):\n",
        "    fig, axs = plt.subplots(2, 2, figsize=(12, 12))\n",
        "\n",
        "    # Plot total_loss\n",
        "    axs[0, 0].plot(history.history['loss'], label='Training Loss')\n",
        "    axs[0, 0].plot(history.history['val_loss'], label='Validation Loss')\n",
        "    axs[0, 0].set_title('Total Loss')\n",
        "    axs[0, 0].set_xlabel('Epochs')\n",
        "    axs[0, 0].set_ylabel('Loss')\n",
        "    axs[0, 0].legend()\n",
        "\n",
        "    # Plot cls_loss\n",
        "    axs[0, 1].plot(history.history['cls_loss'], label='Training Class Loss')\n",
        "    axs[0, 1].plot(history.history['val_cls_loss'], label='Validation Class Loss')\n",
        "    axs[0, 1].set_title('Class Loss')\n",
        "    axs[0, 1].set_xlabel('Epochs')\n",
        "    axs[0, 1].set_ylabel('Loss')\n",
        "    axs[0, 1].legend()\n",
        "\n",
        "    # Plot box_loss\n",
        "    axs[1, 0].plot(history.history['box_loss'], label='Training Box Loss')\n",
        "    axs[1, 0].plot(history.history['val_box_loss'], label='Validation Box Loss')\n",
        "    axs[1, 0].set_title('Box Loss')\n",
        "    axs[1, 0].set_xlabel('Epochs')\n",
        "    axs[1, 0].set_ylabel('Loss')\n",
        "    axs[1, 0].legend()\n",
        "\n",
        "    # Plot model_loss\n",
        "    axs[1, 1].plot(history.history['model_loss'], label='Training Model Loss')\n",
        "    axs[1, 1].plot(history.history['val_model_loss'], label='Validation Model Loss')\n",
        "    axs[1, 1].set_title('Model Loss')\n",
        "    axs[1, 1].set_xlabel('Epochs')\n",
        "    axs[1, 1].set_ylabel('Loss')\n",
        "    axs[1, 1].legend()\n",
        "\n",
        "    plt.tight_layout()\n",
        "    plt.show()\n",
        "\n",
        "plot_training_history(history)"
      ],
      "metadata": {
        "id": "jqyacpm_0VXG"
      },
      "execution_count": null,
      "outputs": []
    },
    {
      "cell_type": "code",
      "source": [
        "# Fungsi untuk menampilkan grafik Average Precision (AP) dan Average Recall (AR)\n",
        "def plot_evaluation_metrics(coco_metrics):\n",
        "    fig, axs = plt.subplots(1, 2, figsize=(12, 6))\n",
        "\n",
        "    # Plot Average Precision (AP)\n",
        "    axs[0].bar(range(len(coco_metrics['AP'])), coco_metrics['AP'], label='Average Precision (AP)')\n",
        "    axs[0].set_title('Average Precision (AP)')\n",
        "    axs[0].set_xlabel('Classes')\n",
        "    axs[0].set_ylabel('AP')\n",
        "    axs[0].legend()\n",
        "\n",
        "    # Plot Average Recall (AR)\n",
        "    axs[1].bar(range(len(coco_metrics['AR'])), coco_metrics['AR'], label='Average Recall (AR)')\n",
        "    axs[1].set_title('Average Recall (AR)')\n",
        "    axs[1].set_xlabel('Classes')\n",
        "    axs[1].set_ylabel('AR')\n",
        "    axs[1].legend()\n",
        "\n",
        "    plt.tight_layout()\n",
        "    plt.show()\n",
        "\n",
        "plot_evaluation_metrics(coco_metrics)"
      ],
      "metadata": {
        "id": "fKiGDP3H0cFU"
      },
      "execution_count": null,
      "outputs": []
    },
    {
      "cell_type": "markdown",
      "metadata": {
        "id": "9HCrUl8z6liX"
      },
      "source": [
        "## Benchmarking\n",
        "Below is a summary of our benchmarking results for the supported model architectures. These models were trained and evaluated on the same android figurines dataset as this notebook. When considering the model benchmarking results, there are a few important caveats to keep in mind:\n",
        "* The android figurines dataset is a small and simple dataset with 62 training examples and 10 validation examples. Since the dataset is quite small, metrics may vary drastically due to variances in the training process. This dataset was provided for demo purposes and it is recommended to collect more data samples for better performing models.\n",
        "* The float32 models were trained with the default HParams, and the QAT step for the int8 models was run with `QATHParams(learning_rate=0.1, batch_size=4, epochs=30, decay_rate=1)`.\n",
        "* For your own dataset, you will likely need to tune values for both HParams and QATHParams in order to achieve the best results. See the [Hyperparameters](#hyperparameters) section above for more information on configuring training parameters.\n",
        "* All latency numbers are benchmarked on the Pixel 6.\n",
        "\n",
        "\n",
        "<table>\n",
        "<thead>\n",
        "<col>\n",
        "<col>\n",
        "<colgroup span=\"2\"></colgroup>\n",
        "<colgroup span=\"2\"></colgroup>\n",
        "<colgroup span=\"2\"></colgroup>\n",
        "<tr>\n",
        "<th rowspan=\"2\">Model architecture</th>\n",
        "<th rowspan=\"2\">Input Image Size</th>\n",
        "<th colspan=\"2\" scope=\"colgroup\">Test AP</th>\n",
        "<th colspan=\"2\" scope=\"colgroup\">CPU Latency</th>\n",
        "<th colspan=\"2\" scope=\"colgroup\">Model Size</th>\n",
        "</tr>\n",
        "<tr>\n",
        "<th>float32</th>\n",
        "<th>QAT int8</th>\n",
        "<th>float32</th>\n",
        "<th>QAT int8</th>\n",
        "<th>float32</th>\n",
        "<th>QAT int8</th>\n",
        "</tr>\n",
        "</thead>\n",
        "<tbody>\n",
        "<tr>\n",
        "<td>MobileNetV2</td>\n",
        "<td>256x256</td>\n",
        "<td>88.4%</td>\n",
        "<td>73.5%</td>\n",
        "<td>48ms</td>\n",
        "<td>16ms</td>\n",
        "<td>11MB</td>\n",
        "<td>3.2MB</td>\n",
        "</tr>\n",
        "<tr>\n",
        "<td>MobileNetV2 I320</td>\n",
        "<td>320x320</td>\n",
        "<td>89.1%</td>\n",
        "<td>75.5%</td>\n",
        "<td>75ms</td>\n",
        "<td>33.38ms</td>\n",
        "<td>10MB</td>\n",
        "<td>3.3MB</td>\n",
        "</tr>\n",
        "<tr>\n",
        "<td>MobileNet MultiHW AVG</td>\n",
        "<td>256x256</td>\n",
        "<td>88.5%</td>\n",
        "<td>70.0%</td>\n",
        "<td>56ms</td>\n",
        "<td>19ms</td>\n",
        "<td>13MB</td>\n",
        "<td>3.6MB</td>\n",
        "</tr>\n",
        "<tr>\n",
        "<td>MobileNet MultiHW AVG I384</td>\n",
        "<td>384x384</td>\n",
        "<td>92.7%</td>\n",
        "<td>73.4%</td>\n",
        "<td>238ms</td>\n",
        "<td>41ms</td>\n",
        "<td>13MB</td>\n",
        "<td>3.6MB</td>\n",
        "</tr>\n",
        "\n",
        "</tbody>\n",
        "</table>\n",
        "\n"
      ]
    },
    {
      "cell_type": "code",
      "execution_count": null,
      "metadata": {
        "id": "TOCPzKohXxy6"
      },
      "outputs": [],
      "source": []
    }
  ],
  "metadata": {
    "colab": {
      "private_outputs": true,
      "provenance": [],
      "include_colab_link": true
    },
    "kernelspec": {
      "display_name": "Python 3 (ipykernel)",
      "language": "python",
      "name": "python3"
    },
    "language_info": {
      "codemirror_mode": {
        "name": "ipython",
        "version": 3
      },
      "file_extension": ".py",
      "mimetype": "text/x-python",
      "name": "python",
      "nbconvert_exporter": "python",
      "pygments_lexer": "ipython3",
      "version": "3.11.9"
    }
  },
  "nbformat": 4,
  "nbformat_minor": 0
}