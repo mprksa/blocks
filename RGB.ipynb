{
  "cells": [
    {
      "cell_type": "markdown",
      "metadata": {
        "id": "view-in-github",
        "colab_type": "text"
      },
      "source": [
        "<a href=\"https://colab.research.google.com/github/mprksa/blocks/blob/main/RGB.ipynb\" target=\"_parent\"><img src=\"https://colab.research.google.com/assets/colab-badge.svg\" alt=\"Open In Colab\"/></a>"
      ]
    },
    {
      "cell_type": "markdown",
      "source": [
        "# **Import Library**"
      ],
      "metadata": {
        "id": "saWckd6CLUaA"
      }
    },
    {
      "cell_type": "code",
      "source": [
        "import cv2\n",
        "import numpy as np"
      ],
      "metadata": {
        "id": "9PSs9ZHNIwc8"
      },
      "execution_count": null,
      "outputs": []
    },
    {
      "cell_type": "markdown",
      "source": [
        "# **Import Sample Gambar**"
      ],
      "metadata": {
        "id": "l-TrYa-xI5F1"
      }
    },
    {
      "cell_type": "code",
      "source": [
        "# Baca gambar menggunakan OpenCV\n",
        "gambar = cv2.imread('nama_file_gambar.jpg')"
      ],
      "metadata": {
        "id": "vA_-B_igI3_t"
      },
      "execution_count": null,
      "outputs": []
    },
    {
      "cell_type": "markdown",
      "source": [
        "# **Intensitas Cahaya**"
      ],
      "metadata": {
        "id": "wyfNKaANIy1J"
      }
    },
    {
      "cell_type": "code",
      "source": [
        "# Konversi gambar ke skala grayscale\n",
        "grayscale = cv2.cvtColor(gambar, cv2.COLOR_BGR2GRAY)"
      ],
      "metadata": {
        "id": "G29r3dROI_Dl"
      },
      "execution_count": null,
      "outputs": []
    },
    {
      "cell_type": "code",
      "source": [
        "# Hitung nilai rata-rata intensitas cahaya pada gambar\n",
        "nilai_intensitas = np.mean(grayscale)"
      ],
      "metadata": {
        "id": "b34Y4Y0jJEPt"
      },
      "execution_count": null,
      "outputs": []
    },
    {
      "cell_type": "code",
      "source": [
        "print(\"Nilai rata-rata intensitas cahaya pada gambar adalah:\", nilai_intensitas)"
      ],
      "metadata": {
        "id": "B3l3iAyKJGBt"
      },
      "execution_count": null,
      "outputs": []
    },
    {
      "cell_type": "markdown",
      "source": [
        "# **RGB Value**"
      ],
      "metadata": {
        "id": "PtVbsNvzJTM8"
      }
    },
    {
      "cell_type": "code",
      "source": [
        "# Dapatkan ukuran gambar\n",
        "tinggi, lebar, _ = gambar.shape"
      ],
      "metadata": {
        "id": "RDDP_NkoLBG1"
      },
      "execution_count": null,
      "outputs": []
    },
    {
      "cell_type": "code",
      "source": [
        "# Hitung koordinat titik tengah\n",
        "x_tengah = lebar // 2\n",
        "y_tengah = tinggi // 2\n",
        "\n",
        "print(\"Koordinat titik tengah gambar adalah:\", (x_tengah, y_tengah))"
      ],
      "metadata": {
        "id": "-ogSjQI-LE_U"
      },
      "execution_count": null,
      "outputs": []
    },
    {
      "cell_type": "code",
      "source": [
        "# Ambil nilai warna pada titik piksel tertentu (misalnya, titik koordinat (x, y))\n",
        "x = 100 # sesuaikan dengan hasil Hitung Koordinat Titik Tengah\n",
        "y = 150 # sesuaikan dengan hasil Hitung Koordinat Titik Tengah\n",
        "nilai_warna = foto[y, x]"
      ],
      "metadata": {
        "id": "u6bvS1HAJVzY"
      },
      "execution_count": null,
      "outputs": []
    },
    {
      "cell_type": "code",
      "source": [
        "# Konversi nilai warna dari BGR ke RGB\n",
        "nilai_warna_rgb = (nilai_warna[2], nilai_warna[1], nilai_warna[0])"
      ],
      "metadata": {
        "id": "0YYGMgo9JZ1k"
      },
      "execution_count": null,
      "outputs": []
    },
    {
      "cell_type": "code",
      "source": [
        "print(\"Nilai warna RGB pada titik piksel ({}, {}) adalah: {}\".format(x, y, nilai_warna_rgb))"
      ],
      "metadata": {
        "id": "hce8cas-Jdrn"
      },
      "execution_count": null,
      "outputs": []
    },
    {
      "cell_type": "markdown",
      "source": [
        "# **HSV Value**"
      ],
      "metadata": {
        "id": "ObJLcHVRJedH"
      }
    },
    {
      "cell_type": "code",
      "source": [
        "# Konversi gambar dari BGR ke HSV\n",
        "gambar_hsv = cv2.cvtColor(gambar, cv2.COLOR_BGR2HSV)"
      ],
      "metadata": {
        "id": "2zsZp6ahJj2G"
      },
      "execution_count": null,
      "outputs": []
    },
    {
      "cell_type": "code",
      "source": [
        "# lower_filter = np.array([H_min, S_min, V_min])\n",
        "# upper_filter = np.array([H_max, S_max, V_max])\n",
        "# Hue (H): Mewakili warna dalam spektrum, seperti merah, kuning, hijau, biru, dll. Nilai Hue berada dalam rentang 0-179 dalam OpenCV.\n",
        "# Saturation (S): Mengukur kejenuhan warna. Nilai Saturation berkisar antara 0-255, di mana 0 adalah warna keabu-abuan dan 255 adalah warna yang penuh jenuh.\n",
        "# Value (V): Mengukur kecerahan warna. Nilai Value juga berkisar antara 0-255, di mana 0 adalah gelap dan 255 adalah cerah.\n",
        "\n",
        "# Tentukan nilai lower dan upper filter HSV\n",
        "lower_filter = np.array([0, 0, 0])\n",
        "upper_filter = np.array([179, 255, 255])\n",
        "\n",
        "print(\"Nilai Lower Filter HSV:\", lower_filter)\n",
        "print(\"Nilai Upper Filter HSV:\", upper_filter)"
      ],
      "metadata": {
        "id": "IEtqwX6EJkk-"
      },
      "execution_count": null,
      "outputs": []
    },
    {
      "cell_type": "code",
      "source": [
        "# Buat mask dengan filter HSV yang ditentukan\n",
        "mask = cv2.inRange(gambar_hsv, lower_filter, upper_filter)\n",
        "\n",
        "print(\"Nilai Mask Filter HSV:\")\n",
        "print(mask)"
      ],
      "metadata": {
        "id": "i8KqGQzwJopg"
      },
      "execution_count": null,
      "outputs": []
    },
    {
      "cell_type": "code",
      "source": [
        "# Tampilkan gambar asli dan mask\n",
        "cv2.imshow('Gambar Asli', gambar)\n",
        "cv2.imshow('Mask Filter HSV', mask)\n",
        "cv2.waitKey(0)\n",
        "cv2.destroyAllWindows()"
      ],
      "metadata": {
        "id": "TRnuuKbNJqe3"
      },
      "execution_count": null,
      "outputs": []
    }
  ],
  "metadata": {
    "colab": {
      "provenance": [],
      "include_colab_link": true
    },
    "kernelspec": {
      "display_name": "Python 3 (ipykernel)",
      "language": "python",
      "name": "python3"
    },
    "language_info": {
      "codemirror_mode": {
        "name": "ipython",
        "version": 3
      },
      "file_extension": ".py",
      "mimetype": "text/x-python",
      "name": "python",
      "nbconvert_exporter": "python",
      "pygments_lexer": "ipython3",
      "version": "3.11.9"
    }
  },
  "nbformat": 4,
  "nbformat_minor": 0
}