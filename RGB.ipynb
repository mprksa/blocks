{
  "cells": [
    {
      "cell_type": "markdown",
      "metadata": {
        "id": "view-in-github",
        "colab_type": "text"
      },
      "source": [
        "<a href=\"https://colab.research.google.com/github/mprksa/blocks/blob/main/RGB.ipynb\" target=\"_parent\"><img src=\"https://colab.research.google.com/assets/colab-badge.svg\" alt=\"Open In Colab\"/></a>"
      ]
    },
    {
      "cell_type": "markdown",
      "source": [
        "# **Import Library**"
      ],
      "metadata": {
        "id": "saWckd6CLUaA"
      }
    },
    {
      "cell_type": "code",
      "source": [
        "import cv2\n",
        "import numpy as np\n",
        "\n",
        "from google.colab.patches import cv2_imshow"
      ],
      "metadata": {
        "id": "9PSs9ZHNIwc8"
      },
      "execution_count": 284,
      "outputs": []
    },
    {
      "cell_type": "markdown",
      "source": [
        "# **Import Sample Gambar**"
      ],
      "metadata": {
        "id": "l-TrYa-xI5F1"
      }
    },
    {
      "cell_type": "code",
      "source": [
        "# Baca gambar menggunakan OpenCV\n",
        "gambar = cv2.imread('Hitam_5.jpg')"
      ],
      "metadata": {
        "id": "vA_-B_igI3_t"
      },
      "execution_count": 285,
      "outputs": []
    },
    {
      "cell_type": "code",
      "source": [
        "# Tampilkan gambar\n",
        "cv2_imshow(gambar)"
      ],
      "metadata": {
        "id": "zs-DrddB5sbg"
      },
      "execution_count": null,
      "outputs": []
    },
    {
      "cell_type": "markdown",
      "source": [
        "# **Intensitas Cahaya**"
      ],
      "metadata": {
        "id": "wyfNKaANIy1J"
      }
    },
    {
      "cell_type": "code",
      "source": [
        "# Konversi gambar ke skala grayscale\n",
        "grayscale = cv2.cvtColor(gambar, cv2.COLOR_BGR2GRAY)"
      ],
      "metadata": {
        "id": "G29r3dROI_Dl"
      },
      "execution_count": 287,
      "outputs": []
    },
    {
      "cell_type": "code",
      "source": [
        "# Hitung nilai rata-rata intensitas cahaya pada gambar\n",
        "nilai_intensitas = np.mean(grayscale)\n",
        "\n",
        "print(\"Nilai rata-rata intensitas cahaya pada gambar adalah:\", nilai_intensitas)"
      ],
      "metadata": {
        "id": "MLtzxVYQ5val"
      },
      "execution_count": null,
      "outputs": []
    },
    {
      "cell_type": "markdown",
      "source": [
        "# **RGB Value**"
      ],
      "metadata": {
        "id": "PtVbsNvzJTM8"
      }
    },
    {
      "cell_type": "code",
      "source": [
        "# Dapatkan ukuran gambar\n",
        "tinggi, lebar, _ = gambar.shape"
      ],
      "metadata": {
        "id": "RDDP_NkoLBG1"
      },
      "execution_count": 289,
      "outputs": []
    },
    {
      "cell_type": "code",
      "source": [
        "# Hitung koordinat titik tengah\n",
        "x_tengah = lebar // 2\n",
        "y_tengah = tinggi // 2\n",
        "\n",
        "print(\"Koordinat titik tengah gambar adalah:\", (x_tengah, y_tengah))"
      ],
      "metadata": {
        "id": "M7k99-HO5xaH"
      },
      "execution_count": null,
      "outputs": []
    },
    {
      "cell_type": "code",
      "source": [
        "# Ambil nilai warna pada titik piksel tertentu (misalnya, titik koordinat (x, y))\n",
        "x = 1512 # sesuaikan dengan hasil Hitung Koordinat Titik Tengah\n",
        "y = 1512 # sesuaikan dengan hasil Hitung Koordinat Titik Tengah\n",
        "nilai_warna = gambar[y, x]"
      ],
      "metadata": {
        "id": "u6bvS1HAJVzY"
      },
      "execution_count": 291,
      "outputs": []
    },
    {
      "cell_type": "code",
      "source": [
        "# Konversi nilai warna dari BGR ke RGB\n",
        "nilai_warna_rgb = (nilai_warna[2], nilai_warna[1], nilai_warna[0])\n",
        "\n",
        "print(\"Nilai warna RGB pada titik piksel ({}, {}) adalah: {}\".format(x, y, nilai_warna_rgb))"
      ],
      "metadata": {
        "id": "Hb21-pSH50JR"
      },
      "execution_count": null,
      "outputs": []
    }
  ],
  "metadata": {
    "colab": {
      "provenance": [],
      "include_colab_link": true
    },
    "kernelspec": {
      "display_name": "Python 3 (ipykernel)",
      "language": "python",
      "name": "python3"
    },
    "language_info": {
      "codemirror_mode": {
        "name": "ipython",
        "version": 3
      },
      "file_extension": ".py",
      "mimetype": "text/x-python",
      "name": "python",
      "nbconvert_exporter": "python",
      "pygments_lexer": "ipython3",
      "version": "3.11.9"
    }
  },
  "nbformat": 4,
  "nbformat_minor": 0
}